{
  "nbformat": 4,
  "nbformat_minor": 0,
  "metadata": {
    "colab": {
      "provenance": [],
      "authorship_tag": "ABX9TyPMtQrejF+lG1awzDtG/wCv",
      "include_colab_link": true
    },
    "kernelspec": {
      "name": "python3",
      "display_name": "Python 3"
    },
    "language_info": {
      "name": "python"
    }
  },
  "cells": [
    {
      "cell_type": "markdown",
      "metadata": {
        "id": "view-in-github",
        "colab_type": "text"
      },
      "source": [
        "<a href=\"https://colab.research.google.com/github/Lanaanvar/PYTHON/blob/main/list_functions.ipynb\" target=\"_parent\"><img src=\"https://colab.research.google.com/assets/colab-badge.svg\" alt=\"Open In Colab\"/></a>"
      ]
    },
    {
      "cell_type": "code",
      "execution_count": null,
      "metadata": {
        "id": "_R3nibOtbVql",
        "colab": {
          "base_uri": "https://localhost:8080/"
        },
        "outputId": "ea7a3b1e-8069-4845-ab61-6165ccef051a"
      },
      "outputs": [
        {
          "output_type": "stream",
          "name": "stdout",
          "text": [
            "the reverse list=  [20, 15, 10, 5]\n"
          ]
        }
      ],
      "source": [
        "#reverse a list\n",
        "multiples_5=[5,10,15,20]\n",
        "\n",
        "multiples_5.reverse()\n",
        "\n",
        "print(\"the reverse list= \",multiples_5)"
      ]
    },
    {
      "cell_type": "code",
      "source": [
        "#concatenation of two list index wise\n",
        "multiples_3=[3,6,9,12]\n",
        "multiples_5=[5,10,15,20]\n",
        "multiples_5_3=[]\n",
        "\n",
        "for i in range(len(multiples_3)):\n",
        "  j=multiples_3[i]\n",
        "  multiples_5_3.append(j)\n",
        "  k=multiples_5[i]\n",
        "  multiples_5_3.append(k)\n",
        "\n",
        "print(multiples_5_3)"
      ],
      "metadata": {
        "colab": {
          "base_uri": "https://localhost:8080/"
        },
        "id": "pYs4HcoVfpAR",
        "outputId": "3cc825b1-68e3-47c3-9a05-21700eb321aa"
      },
      "execution_count": null,
      "outputs": [
        {
          "output_type": "stream",
          "name": "stdout",
          "text": [
            "[3, 5, 6, 10, 9, 15, 12, 20]\n"
          ]
        }
      ]
    },
    {
      "cell_type": "code",
      "source": [
        "list_1=[1,2,3,4,5,6,7,8,9,10]\n",
        "list_2=[]\n",
        "\n",
        "for i in range(len(list_1)):\n",
        "  list_2.append(list_1[i]*list_1[i])\n",
        "\n",
        "print(list_2)"
      ],
      "metadata": {
        "colab": {
          "base_uri": "https://localhost:8080/"
        },
        "id": "l7WDYygPj-2v",
        "outputId": "fc4a5b27-5989-41b5-f52e-bf66e9998564"
      },
      "execution_count": null,
      "outputs": [
        {
          "output_type": "stream",
          "name": "stdout",
          "text": [
            "[1, 4, 9, 16, 25, 36, 49, 64, 81, 100]\n"
          ]
        }
      ]
    },
    {
      "cell_type": "code",
      "source": [
        "#remove from list\n",
        "list1=[\"this\",\" \",\"is\",\" \",\"my\",\" \",\"first\",\" \",\"python\",\" \",\"program\"]\n",
        "\n",
        "while (\" \" in list1):\n",
        "  list1.remove(\" \")\n",
        "\n",
        "print(list1)"
      ],
      "metadata": {
        "colab": {
          "base_uri": "https://localhost:8080/"
        },
        "id": "fl2Y0Gi6lkfK",
        "outputId": "fd88bd97-6118-42b3-e6d1-9dd5cec405b9"
      },
      "execution_count": null,
      "outputs": [
        {
          "output_type": "stream",
          "name": "stdout",
          "text": [
            "['this', 'is', 'my', 'first', 'python', 'program']\n"
          ]
        }
      ]
    },
    {
      "cell_type": "code",
      "source": [
        "#replace\n",
        "list1=[1,3,10,12,13]\n",
        "\n",
        "index=list1.index(10)\n",
        "list1[index]=100\n",
        "\n",
        "print(list1)"
      ],
      "metadata": {
        "colab": {
          "base_uri": "https://localhost:8080/"
        },
        "id": "VbbOT8zYpsy7",
        "outputId": "826adf4d-4b7b-47b8-a1e1-9126c0c273bb"
      },
      "execution_count": null,
      "outputs": [
        {
          "output_type": "stream",
          "name": "stdout",
          "text": [
            "[1, 3, 100, 12, 13]\n"
          ]
        }
      ]
    },
    {
      "cell_type": "code",
      "source": [
        "#remove all occurence\n",
        "list1=[1,22,3,45,22,67]\n",
        "l=len(list1)\n",
        "\n",
        "while(22 in list1):\n",
        "  list1.remove(22)\n",
        "\n",
        "print(list1)"
      ],
      "metadata": {
        "colab": {
          "base_uri": "https://localhost:8080/"
        },
        "id": "-Uzq-o9e0DZr",
        "outputId": "d9d43def-d8d7-42de-859b-a589b1e9efbd"
      },
      "execution_count": null,
      "outputs": [
        {
          "output_type": "stream",
          "name": "stdout",
          "text": [
            "[1, 3, 45, 67]\n"
          ]
        }
      ]
    }
  ]
}