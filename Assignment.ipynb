{
  "nbformat": 4,
  "nbformat_minor": 0,
  "metadata": {
    "colab": {
      "provenance": [],
      "authorship_tag": "ABX9TyPLMoFikooeqT4Exs4wVy87",
      "include_colab_link": true
    },
    "kernelspec": {
      "name": "python3",
      "display_name": "Python 3"
    },
    "language_info": {
      "name": "python"
    }
  },
  "cells": [
    {
      "cell_type": "markdown",
      "metadata": {
        "id": "view-in-github",
        "colab_type": "text"
      },
      "source": [
        "<a href=\"https://colab.research.google.com/github/Lanaanvar/PYTHON/blob/main/Assignment.ipynb\" target=\"_parent\"><img src=\"https://colab.research.google.com/assets/colab-badge.svg\" alt=\"Open In Colab\"/></a>"
      ]
    },
    {
      "cell_type": "code",
      "source": [
        "#basic arithmetic operations\n",
        "a=int(input(\"enter a number \"))\n",
        "b=int(input(\"enter another number \"))\n",
        "ab_sum=a+b\n",
        "print(ab_sum)\n",
        "\n",
        "ab_diff=a-b\n",
        "print(ab_diff)\n",
        "\n",
        "ab_pdt=a*b\n",
        "print(ab_pdt)\n",
        "\n",
        "ab_dvd=a/b\n",
        "print(ab_dvd)\n",
        "\n",
        "ab_iquo=a//b\n",
        "print(ab_iquo)\n",
        "\n",
        "ab_rem=a%b\n",
        "print(ab_rem)\n",
        "\n",
        "ab_exp=a**b\n",
        "print(ab_exp)"
      ],
      "metadata": {
        "colab": {
          "base_uri": "https://localhost:8080/"
        },
        "id": "N3yYvLp8ei4q",
        "outputId": "c10b5203-4495-4ac7-fca6-a78e92e7c006"
      },
      "execution_count": null,
      "outputs": [
        {
          "output_type": "stream",
          "name": "stdout",
          "text": [
            "enter a number 8\n",
            "enter another number 9\n",
            "17\n",
            "-1\n",
            "72\n",
            "0.8888888888888888\n",
            "0\n",
            "8\n",
            "134217728\n"
          ]
        }
      ]
    },
    {
      "cell_type": "code",
      "source": [
        "#Area and perimeter of a triangle\n",
        "\n",
        "a=int(input(\"side 1\"))\n",
        "b=int(input(\"side 2\"))\n",
        "c=int(input(\"side 3\"))\n",
        "peri=a+b+c\n",
        "print(\"the perim of the triangle is\",peri)"
      ],
      "metadata": {
        "colab": {
          "base_uri": "https://localhost:8080/"
        },
        "id": "V2LINwHyr6k1",
        "outputId": "31eff66f-4f66-4970-b1c2-f90db9263d5f"
      },
      "execution_count": null,
      "outputs": [
        {
          "output_type": "stream",
          "name": "stdout",
          "text": [
            "side 112\n",
            "side 212\n",
            "side 312\n",
            "the perim of the triangle is 36\n"
          ]
        }
      ]
    },
    {
      "cell_type": "code",
      "execution_count": null,
      "metadata": {
        "id": "Kcy7-vS9s1Jc",
        "colab": {
          "base_uri": "https://localhost:8080/"
        },
        "outputId": "a614bd84-795e-4953-ed7d-1a00b66306a4"
      },
      "outputs": [
        {
          "output_type": "stream",
          "name": "stdout",
          "text": [
            "first no.30\n",
            "second number27\n",
            "the sum and average is  57  and  28.5\n"
          ]
        }
      ],
      "source": [
        "#avg and sum of 2 numbers\n",
        "a=int(input(\"first number\"))\n",
        "b=int(input(\"second number\"))\n",
        "sum=a+b\n",
        "average=sum/2\n",
        "print(\"the sum and average is \", sum,\" and \", average)"
      ]
    },
    {
      "cell_type": "code",
      "source": [
        "#area and perimeter of circle\n",
        "r=int(input(\"radius \"))\n",
        "pi=3.14\n",
        "area=pi*r**2\n",
        "perimeter=2*pi*r\n",
        "print(\"the area is\", area)\n",
        "print(\"the perimeter is \", perimeter)"
      ],
      "metadata": {
        "colab": {
          "base_uri": "https://localhost:8080/"
        },
        "id": "9TSDMkzkyycd",
        "outputId": "9791f423-53bc-4549-dd4c-bcd7745959e7"
      },
      "execution_count": null,
      "outputs": [
        {
          "output_type": "stream",
          "name": "stdout",
          "text": [
            "radius 5\n",
            "the area is 78.5\n",
            "the perimeter is  31.400000000000002\n"
          ]
        }
      ]
    },
    {
      "cell_type": "code",
      "source": [
        "#area and perimeter of triangle\n",
        "a=int(input(\"side 1 \"))\n",
        "b=int(input(\"side 2 \"))\n",
        "c=int(input(\"side 3 \"))\n",
        "s=(a+b+c)/2\n",
        "area=(s*(s-a)*(s-b)*(s-c))**1/2\n",
        "perimeter=a+b+c\n",
        "print(\"the area and perimeter is \", area,\" and \", perimeter)"
      ],
      "metadata": {
        "colab": {
          "base_uri": "https://localhost:8080/"
        },
        "id": "V1vxILcFvxt4",
        "outputId": "32b711b4-a879-4a79-c2aa-723a70b05d52"
      },
      "execution_count": null,
      "outputs": [
        {
          "output_type": "stream",
          "name": "stdout",
          "text": [
            "side 1 23\n",
            "side 2 45\n",
            "side 3 56\n",
            "the area and perimeter is  123318.0  and  124\n"
          ]
        }
      ]
    },
    {
      "cell_type": "code",
      "source": [
        "#display quotient and remainder\n",
        "a=int(input(\"first number \"))\n",
        "b=int(input(\"second number \"))\n",
        "Q=int(a/b)\n",
        "R=a%b\n",
        "print(\"the quotient is \",Q)\n",
        "print(\"the remainder is \",R)"
      ],
      "metadata": {
        "id": "saz0HhpB1I_M",
        "colab": {
          "base_uri": "https://localhost:8080/"
        },
        "outputId": "34a55a31-20cc-4fe0-ba10-553707d0a25c"
      },
      "execution_count": null,
      "outputs": [
        {
          "output_type": "stream",
          "name": "stdout",
          "text": [
            "first number 15\n",
            "second number 4\n",
            "the quotient is  3\n",
            "the remainder is  3\n"
          ]
        }
      ]
    },
    {
      "cell_type": "code",
      "source": [
        "#convert no. of days to years, months and days\n",
        "a=int(input(\"enter no. of days \"))\n",
        "Y=int(a//364)\n",
        "M=int((a-(Y*364))//30)\n",
        "D=int(a-((Y*364)+(M*30)))\n",
        "print(a, \" no. of days is equal to \", Y, \" years, \", M, \" months and \", D, \" days respectively\" )"
      ],
      "metadata": {
        "colab": {
          "base_uri": "https://localhost:8080/"
        },
        "id": "c_BG4jT6yDJc",
        "outputId": "16f86762-e402-4738-bdae-c04db74c6157"
      },
      "execution_count": null,
      "outputs": [
        {
          "output_type": "stream",
          "name": "stdout",
          "text": [
            "enter no. of days 3655\n",
            "3655  no. of days is equal to  10  years,  0  months and  15  days respectively\n"
          ]
        }
      ]
    },
    {
      "cell_type": "code",
      "source": [
        "#to check palindrome number\n",
        "a=int(input(\"enter a number \"))\n",
        "t=a\n",
        "s=0\n",
        "while a>0:\n",
        "  R=a%10\n",
        "  s=s*10+R\n",
        "  a=a//10\n",
        "if s==t:\n",
        "  print(\"the number is palindrome\")\n",
        "else:\n",
        "  print(\"the number is not palindrome\")"
      ],
      "metadata": {
        "colab": {
          "base_uri": "https://localhost:8080/"
        },
        "id": "-pOHU5i8IsQc",
        "outputId": "018beddc-730b-45b2-9dec-065bf986fa55"
      },
      "execution_count": null,
      "outputs": [
        {
          "output_type": "stream",
          "name": "stdout",
          "text": [
            "enter a number 1221\n",
            "the number is palindrome\n"
          ]
        }
      ]
    },
    {
      "cell_type": "code",
      "source": [
        "#armstrong number\n",
        "a=int(input(\"enter a number \"))\n",
        "t=a\n",
        "s=0\n",
        "c=len(str(a))\n",
        "while a>0:\n",
        "  r=a%10\n",
        "  s=s+(r**c)\n",
        "  a=a//10\n",
        "if s==t:\n",
        "  print(\"the number is an armstrong number\")\n",
        "else:\n",
        "  print(\"the number is not an armstrong number\")"
      ],
      "metadata": {
        "colab": {
          "base_uri": "https://localhost:8080/"
        },
        "id": "EwLQirZiL4Sg",
        "outputId": "8f0e1dc9-5ab7-4f90-b315-f7c8e3ee2887"
      },
      "execution_count": null,
      "outputs": [
        {
          "output_type": "stream",
          "name": "stdout",
          "text": [
            "enter a number 92726\n",
            "the number is not an armstrong number\n"
          ]
        }
      ]
    },
    {
      "cell_type": "code",
      "source": [
        "#convert no. of secs to hours, minutes and secs\n",
        "t=int(input(\"enter seconds \"))\n",
        "H=t//3600\n",
        "M=(t-(H*3600))//60\n",
        "S=((t-(H*3600))-(M*60))\n",
        "print(\"hours = \", H, \" minutes = \",M, \" seconds = \",S)"
      ],
      "metadata": {
        "colab": {
          "base_uri": "https://localhost:8080/"
        },
        "id": "NzGp7dlOSLRz",
        "outputId": "343094ce-6cc3-4880-dcc0-e420b5324a5c"
      },
      "execution_count": null,
      "outputs": [
        {
          "output_type": "stream",
          "name": "stdout",
          "text": [
            "enter seconds 3600\n",
            "hours =  1  minutes =  0  seconds =  0\n"
          ]
        }
      ]
    },
    {
      "cell_type": "code",
      "source": [
        "#print first n odd numbers\n",
        "n=int(input(\"enter no. of terms \"))\n",
        "for i in range(1, 2*n+1, 2):\n",
        "   print(i)\n",
        "    "
      ],
      "metadata": {
        "id": "Sf4UhW1ON_nc",
        "colab": {
          "base_uri": "https://localhost:8080/"
        },
        "outputId": "1cb7c63a-8033-477f-bad9-3cecae635239"
      },
      "execution_count": null,
      "outputs": [
        {
          "output_type": "stream",
          "name": "stdout",
          "text": [
            "enter no. of terms 10\n",
            "1\n",
            "3\n",
            "5\n",
            "7\n",
            "9\n",
            "11\n",
            "13\n",
            "15\n",
            "17\n",
            "19\n"
          ]
        }
      ]
    },
    {
      "cell_type": "code",
      "source": [
        "#factorial of a number\n",
        "n=int(input(\"enter a number\"))\n",
        "F=1\n",
        "r=1\n",
        "while r<=n:\n",
        "  F=F*r\n",
        "  r=r+1\n",
        "print(F) \n",
        "\n",
        "\n",
        "  "
      ],
      "metadata": {
        "colab": {
          "base_uri": "https://localhost:8080/"
        },
        "id": "0QDidP7rZ5DQ",
        "outputId": "576857b3-3dfc-44e9-baca-a8ef9d7c84b1"
      },
      "execution_count": null,
      "outputs": [
        {
          "output_type": "stream",
          "name": "stdout",
          "text": [
            "enter a number17\n",
            "355687428096000\n"
          ]
        }
      ]
    },
    {
      "cell_type": "code",
      "source": [
        "#reverse of a number\n",
        "n=int(input(\"enter a number \"))\n",
        "s=0\n",
        "while n>0:\n",
        "  digit=n%10\n",
        "  s=s*10+digit\n",
        "  n=n//10\n",
        "print(s)"
      ],
      "metadata": {
        "colab": {
          "base_uri": "https://localhost:8080/"
        },
        "id": "sA6T5aYnIVEY",
        "outputId": "ca3f17f8-04a3-4efb-f4e2-cede408df374"
      },
      "execution_count": null,
      "outputs": [
        {
          "output_type": "stream",
          "name": "stdout",
          "text": [
            "enter a number 23647\n",
            "74632\n"
          ]
        }
      ]
    },
    {
      "cell_type": "code",
      "source": [
        "#to check if a no. is two digit number\n",
        "n=int(input(\"enter a number\"))\n",
        "if n>10 and n<100:\n",
        "  print(\"its a 2 digit number\")\n",
        "else:\n",
        "  print(\"its not two digit number\")\n"
      ],
      "metadata": {
        "colab": {
          "base_uri": "https://localhost:8080/"
        },
        "id": "6TsTqAImJYxP",
        "outputId": "201a47c9-d8b3-4b48-c8fd-27a15204af82"
      },
      "execution_count": null,
      "outputs": [
        {
          "output_type": "stream",
          "name": "stdout",
          "text": [
            "enter a number54\n",
            "its a 2 digit number\n"
          ]
        }
      ]
    },
    {
      "cell_type": "code",
      "source": [
        "#to check if a number is multiple of another number\n",
        "x=int(input(\"enter first number \"))\n",
        "y=int(input(\"enter second number  \"))\n",
        "if x%y==0:\n",
        "  print(y, \" is a multiple of \",x)\n",
        "else:\n",
        "  print(y, \" is not a multiple of \",x)"
      ],
      "metadata": {
        "id": "CebOENqvKg8Y",
        "colab": {
          "base_uri": "https://localhost:8080/"
        },
        "outputId": "1b35ca3b-2713-4c0c-8ce1-f3fa374dcd02"
      },
      "execution_count": null,
      "outputs": [
        {
          "output_type": "stream",
          "name": "stdout",
          "text": [
            "enter first number 123\n",
            "enter second number  6\n",
            "6  is not a multiple of  123\n"
          ]
        }
      ]
    },
    {
      "cell_type": "code",
      "source": [
        "#greatest of two numbers\n",
        "x=int(input(\"enter first number \"))\n",
        "y=int(input(\"enter second number \"))\n",
        "if x>y:\n",
        "  print(x,\" is greater than \",y)\n",
        "else:\n",
        "  print(y,\" is greater than \",x)\n"
      ],
      "metadata": {
        "colab": {
          "base_uri": "https://localhost:8080/"
        },
        "id": "e_Tn74JuyMvH",
        "outputId": "ebb7fa1a-0e4c-47e1-b4a1-62822ea21f05"
      },
      "execution_count": null,
      "outputs": [
        {
          "output_type": "stream",
          "name": "stdout",
          "text": [
            "enter first number 0\n",
            "enter second number -4\n",
            "0  is greater than  -4\n"
          ]
        }
      ]
    },
    {
      "cell_type": "code",
      "source": [
        "#nature of roots of quadratic equation\n",
        "a=int(input(\"enter first coefficient \"))\n",
        "b=int(input(\"enter second coefficient \"))\n",
        "c=int(input(\"enter constant \"))\n",
        "d=b**2-(4*a*c)\n",
        "if d>0:\n",
        "  print(\"the roots are real\")\n",
        "elif d==0:\n",
        "  print(\"the roots are equal\")\n",
        "else:\n",
        "  print(\"the roots are complex\")"
      ],
      "metadata": {
        "id": "wSqVddPwz5vc"
      },
      "execution_count": null,
      "outputs": []
    },
    {
      "cell_type": "code",
      "source": [
        "#distance in a number line\n",
        "x=int(input(\"first integer \"))\n",
        "y=int(input(\"second integer \"))\n",
        "if x>y:\n",
        "  d=x-y\n",
        "  print(\"the distance is \",d)\n",
        "else:\n",
        "  d=y-x\n",
        "  print(\"the distance is \",d)"
      ],
      "metadata": {
        "colab": {
          "base_uri": "https://localhost:8080/"
        },
        "id": "UpxnbJUZ2Oap",
        "outputId": "4c86a495-a371-4415-fbff-b703386b288f"
      },
      "execution_count": null,
      "outputs": [
        {
          "output_type": "stream",
          "name": "stdout",
          "text": [
            "first integer -2\n",
            "second integer 10\n",
            "the distance is  12\n"
          ]
        }
      ]
    },
    {
      "cell_type": "code",
      "source": [
        "#print n numbers\n",
        "num=int(input(\"enter number of terms \"))\n",
        "n=1\n",
        "while n<=num:\n",
        "  print(n)\n",
        "  n=n+1"
      ],
      "metadata": {
        "colab": {
          "base_uri": "https://localhost:8080/"
        },
        "id": "AK_LP3k64Qlt",
        "outputId": "c419d8cb-9547-43c2-e066-9df29d9b3d75"
      },
      "execution_count": null,
      "outputs": [
        {
          "output_type": "stream",
          "name": "stdout",
          "text": [
            "enter number of terms 9\n",
            "1\n",
            "2\n",
            "3\n",
            "4\n",
            "5\n",
            "6\n",
            "7\n",
            "8\n",
            "9\n"
          ]
        }
      ]
    },
    {
      "cell_type": "code",
      "source": [
        "#smallest of three numbers\n",
        "a=int(input(\"first number \"))\n",
        "b=int(input(\"second number \"))\n",
        "c=int(input(\"third number \"))\n",
        "if a < b and a < c :\n",
        "    s = a\n",
        "elif b < c :\n",
        "    s = b\n",
        "else :\n",
        "    s = c\n",
        "print(s, \"is the smallest of the numbers.\")"
      ],
      "metadata": {
        "colab": {
          "base_uri": "https://localhost:8080/"
        },
        "id": "VroWoNmV6brT",
        "outputId": "bfbc1cdd-e270-4b87-94bc-8697d2bda9ec"
      },
      "execution_count": null,
      "outputs": [
        {
          "output_type": "stream",
          "name": "stdout",
          "text": [
            "first number 67856\n",
            "second number 23\n",
            "third number 2\n",
            "2 is the smallest of the numbers.\n"
          ]
        }
      ]
    },
    {
      "cell_type": "code",
      "source": [
        "#sum of factors\n",
        "num=int(input(\"enter number \"))\n",
        "n=1\n",
        "sum=0\n",
        "while n<num:\n",
        "  if num%n==0:\n",
        "    sum=sum+n\n",
        "    n=n+1\n",
        "  else:\n",
        "    n=n+1\n",
        "print(sum)"
      ],
      "metadata": {
        "colab": {
          "base_uri": "https://localhost:8080/"
        },
        "id": "WPfnJEhaAeTL",
        "outputId": "da984812-2fbf-4be3-e83d-ddc721a245fe"
      },
      "execution_count": null,
      "outputs": [
        {
          "output_type": "stream",
          "name": "stdout",
          "text": [
            "enter number 20\n",
            "22\n"
          ]
        }
      ]
    },
    {
      "cell_type": "code",
      "source": [
        "#the number is + or- or 0\n",
        "num=int(input(\"enter number \"))\n",
        "if num>0:\n",
        "  print(\"the number is positive\")\n",
        "elif num<0:\n",
        "  print(\"the number is negative\")\n",
        "else:\n",
        "  print(\"the number is zero\")"
      ],
      "metadata": {
        "id": "y261oA8iF-Zr",
        "colab": {
          "base_uri": "https://localhost:8080/"
        },
        "outputId": "0d525c03-2517-4c7d-caa9-689f6a4224dc"
      },
      "execution_count": null,
      "outputs": [
        {
          "output_type": "stream",
          "name": "stdout",
          "text": [
            "enter number 120936478\n",
            "the number is positive\n"
          ]
        }
      ]
    },
    {
      "cell_type": "code",
      "source": [
        "#fibonacci series\n",
        "n=int(input(\"enter no. of terms \"))\n",
        "x=0\n",
        "y=1\n",
        "z=1\n",
        "for i in range(1,n+1):\n",
        "  print(x)\n",
        "  x=y\n",
        "  y=z\n",
        "  z=x+y"
      ],
      "metadata": {
        "colab": {
          "base_uri": "https://localhost:8080/"
        },
        "id": "pxXscyjyQjsA",
        "outputId": "ef865496-f801-4755-8e57-0e9c0b4635f7"
      },
      "execution_count": null,
      "outputs": [
        {
          "output_type": "stream",
          "name": "stdout",
          "text": [
            "enter no. of terms 10\n",
            "0\n",
            "1\n",
            "1\n",
            "2\n",
            "3\n",
            "5\n",
            "8\n",
            "13\n",
            "21\n",
            "34\n"
          ]
        }
      ]
    },
    {
      "cell_type": "code",
      "source": [
        "#GCD of two numbers\n",
        "a=int(input(\"enter first number \"))\n",
        "b=int(input(\"enter second number \"))\n",
        "if a>b:\n",
        "  smaller=b\n",
        "else:\n",
        "  smaller=a\n",
        "for i in range(1,smaller+1):\n",
        "  if a%i==0 and b%i==0:\n",
        "    hcf=i\n",
        "print(hcf)\n"
      ],
      "metadata": {
        "colab": {
          "base_uri": "https://localhost:8080/"
        },
        "id": "ynj6EEqWWesv",
        "outputId": "83ce44b7-fdc6-4407-f344-516e1dbe495b"
      },
      "execution_count": null,
      "outputs": [
        {
          "output_type": "stream",
          "name": "stdout",
          "text": [
            "enter first number 30\n",
            "enter second number 15\n",
            "15\n"
          ]
        }
      ]
    },
    {
      "cell_type": "code",
      "source": [
        "#to check if a number is automorphic\n",
        "num=int(input(\"enter number \"))\n",
        "square=num**2\n",
        "last_digit=num%10\n",
        "sqr_digit=square%10\n",
        "if last_digit==sqr_digit:\n",
        "  print(\"the number is automorphic\")\n",
        "else:\n",
        "  print(\"the number is not automorphic\")"
      ],
      "metadata": {
        "colab": {
          "base_uri": "https://localhost:8080/"
        },
        "id": "8Uf31Y1alLSj",
        "outputId": "9339b9ea-181b-46b6-b981-69273b550b8d"
      },
      "execution_count": null,
      "outputs": [
        {
          "output_type": "stream",
          "name": "stdout",
          "text": [
            "enter number 13\n",
            "the number is not automorphic\n"
          ]
        }
      ]
    },
    {
      "cell_type": "code",
      "source": [
        "#to find sum of series\n",
        "n=int(input(\"no. of terms = \"))\n",
        "s=0\n",
        "i=0\n",
        "while i<=n:\n",
        "  r=i**2\n",
        "  if i%2==0:\n",
        "    s=s-r\n",
        "  else:\n",
        "    s=s+r\n",
        "  i=i+1     \n",
        "print(s)"
      ],
      "metadata": {
        "colab": {
          "base_uri": "https://localhost:8080/"
        },
        "id": "rxny8mZKolid",
        "outputId": "fe8caee3-9fde-4965-b9d8-38410a3f6a99"
      },
      "execution_count": null,
      "outputs": [
        {
          "output_type": "stream",
          "name": "stdout",
          "text": [
            "no. of terms = 4\n",
            "-10\n"
          ]
        }
      ]
    },
    {
      "cell_type": "code",
      "source": [
        "#power of a number\n",
        "x=int(input(\"enter base \"))\n",
        "n=int(input(\"enter power \"))\n",
        "i=1\n",
        "for j in range(1,n+1):\n",
        "  i=i*x\n",
        "print(\"the answer is \", i)"
      ],
      "metadata": {
        "colab": {
          "base_uri": "https://localhost:8080/"
        },
        "id": "BNJRrU8G6iKn",
        "outputId": "7130a72e-5e61-4ce0-cb68-1ceabae411ac"
      },
      "execution_count": null,
      "outputs": [
        {
          "output_type": "stream",
          "name": "stdout",
          "text": [
            "enter base 2\n",
            "enter power 10\n",
            "the answer is  1024\n"
          ]
        }
      ]
    },
    {
      "cell_type": "code",
      "source": [
        "#smallest of digits \n",
        "n=int(input(\"enter a number \"))\n",
        "smallest=9\n",
        "while n>0:\n",
        "  r=n%10\n",
        "  if smallest>r:\n",
        "    smallest=r\n",
        "  n=n//10\n",
        "print(\"the smallest digit is \",smallest)"
      ],
      "metadata": {
        "colab": {
          "base_uri": "https://localhost:8080/"
        },
        "id": "wYvJG9YVCkKd",
        "outputId": "221784a8-d1a2-4810-91f1-e38664377957"
      },
      "execution_count": null,
      "outputs": [
        {
          "output_type": "stream",
          "name": "stdout",
          "text": [
            "enter a number 65890\n",
            "the smallest digit is  0\n"
          ]
        }
      ]
    },
    {
      "cell_type": "code",
      "source": [
        "#sum of first n natural numbers\n",
        "n=int(input(\"enter no. of terms \"))\n",
        "sum=0\n",
        "for i in range(1,n+1):\n",
        "  sum=sum+i\n",
        "print(\"the sum is \",sum)"
      ],
      "metadata": {
        "colab": {
          "base_uri": "https://localhost:8080/"
        },
        "id": "Odxat1MdEQKD",
        "outputId": "0f638c82-2ca0-4f4b-c130-ca1944061899"
      },
      "execution_count": null,
      "outputs": [
        {
          "output_type": "stream",
          "name": "stdout",
          "text": [
            "enter no. of terms 10\n",
            "the sum is  55\n"
          ]
        }
      ]
    },
    {
      "cell_type": "code",
      "source": [
        "#to check if a number is prime\n",
        "n=int(input(\"enter a number \"))\n",
        "f=0\n",
        "for i in range(2, (n//2)+1):\n",
        "  r=n%i\n",
        "  if r==0:\n",
        "    f=f+1\n",
        "    break\n",
        "if f==0:\n",
        "  print(\"the number is prime\")\n",
        "else:\n",
        "  print(\"the number is not prime\")"
      ],
      "metadata": {
        "colab": {
          "base_uri": "https://localhost:8080/"
        },
        "id": "T1MnlS-UFBuz",
        "outputId": "fc7c9be5-a3e4-480c-e8ba-2d6fdc0b5a82"
      },
      "execution_count": null,
      "outputs": [
        {
          "output_type": "stream",
          "name": "stdout",
          "text": [
            "enter a number 450\n",
            "the number is not prime\n"
          ]
        }
      ]
    },
    {
      "cell_type": "code",
      "source": [
        "#interchanging values of two variables without third variable\n",
        "x=int(input(\"enter first number \"))\n",
        "y=int(input(\"enter second number \"))\n",
        "x=x+y\n",
        "y=x-y\n",
        "x=x-y\n",
        "print(\"the value of x is\",x)\n",
        "print(\"the value of y is \",y)"
      ],
      "metadata": {
        "colab": {
          "base_uri": "https://localhost:8080/"
        },
        "id": "TYhR8G3ELp1X",
        "outputId": "fea82440-9ba4-491a-a21a-e4d1f10d926e"
      },
      "execution_count": null,
      "outputs": [
        {
          "output_type": "stream",
          "name": "stdout",
          "text": [
            "enter first number 54\n",
            "enter second number 89\n",
            "the value of x is 89\n",
            "the value of y is  54\n"
          ]
        }
      ]
    },
    {
      "cell_type": "code",
      "source": [
        "#n terms of an AP\n",
        "a=int(input(\"enter first term \"))\n",
        "b=int(input(\"enter common difference \"))\n",
        "c=int(input(\"enter no. of terms \"))\n",
        "for j in range(1,c+1):\n",
        "  print(a)\n",
        "  a=a+b"
      ],
      "metadata": {
        "colab": {
          "base_uri": "https://localhost:8080/"
        },
        "id": "wgcM-srVg5BV",
        "outputId": "c341320c-26c4-4712-aa0f-310e0b58f32c"
      },
      "execution_count": null,
      "outputs": [
        {
          "output_type": "stream",
          "name": "stdout",
          "text": [
            "enter first term 2\n",
            "enter common difference 2\n",
            "enter no. of terms 10\n",
            "2\n",
            "4\n",
            "6\n",
            "8\n",
            "10\n",
            "12\n",
            "14\n",
            "16\n",
            "18\n",
            "20\n"
          ]
        }
      ]
    },
    {
      "cell_type": "code",
      "source": [
        "#decimal equivalent of binary number\n",
        "n=int(input(\"enter binary number \"))\n",
        "sum=0\n",
        "x=0\n",
        "while n>0:\n",
        "  digit=n%10\n",
        "  sum=sum+digit*(2**x)\n",
        "  x=x+1\n",
        "  n=n//10\n",
        "print(sum)"
      ],
      "metadata": {
        "colab": {
          "base_uri": "https://localhost:8080/"
        },
        "id": "eGBhgxvji3-j",
        "outputId": "e74beb09-47ac-431b-8a10-688b2429a41f"
      },
      "execution_count": null,
      "outputs": [
        {
          "output_type": "stream",
          "name": "stdout",
          "text": [
            "enter binary number 1110011\n",
            "115\n"
          ]
        }
      ]
    }
  ]
}