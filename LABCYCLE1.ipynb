{
  "cells": [
    {
      "cell_type": "markdown",
      "metadata": {
        "id": "view-in-github",
        "colab_type": "text"
      },
      "source": [
        "<a href=\"https://colab.research.google.com/github/Lanaanvar/PYTHON/blob/main/LABCYCLE1.ipynb\" target=\"_parent\"><img src=\"https://colab.research.google.com/assets/colab-badge.svg\" alt=\"Open In Colab\"/></a>"
      ]
    },
    {
      "cell_type": "markdown",
      "metadata": {
        "id": "JPFSWgzQpD6K"
      },
      "source": [
        "**QUESTION 1**\n",
        "\n"
      ]
    },
    {
      "cell_type": "code",
      "execution_count": 1,
      "metadata": {
        "colab": {
          "base_uri": "https://localhost:8080/"
        },
        "id": "nnJ6G_rxpRdy",
        "outputId": "206b9291-8124-4446-a449-91e595384726"
      },
      "outputs": [
        {
          "output_type": "stream",
          "name": "stdout",
          "text": [
            "enter a four digit number 5768\n",
            "the sum of the digits =  26\n",
            "the reverse of the number =  8675\n",
            "the difference is =  26\n"
          ]
        }
      ],
      "source": [
        "#1\n",
        "def sum_of_digits(a):\n",
        "  sum=0\n",
        "  while a>0:\n",
        "    digits=a%10\n",
        "    sum=sum+digits\n",
        "    a=a//10\n",
        "  return sum\n",
        "\n",
        "def reverse(b):\n",
        "  rev=0\n",
        "  while b>0:\n",
        "    digits=b%10\n",
        "    rev=rev*10+digits\n",
        "    b=b//10\n",
        "  return rev\n",
        "\n",
        "def difference(c):\n",
        "  prodEven=1\n",
        "  prodOdd=1\n",
        "  count=0\n",
        "  while c>0:\n",
        "    digit=c%10\n",
        "    count=count+1\n",
        "    if count%2==0:\n",
        "      prodEven=prodEven*digit\n",
        "    else:\n",
        "      prodOdd=prodOdd*digit\n",
        "    c=c//10\n",
        "  diff=prodOdd-prodEven\n",
        "  return diff\n",
        "  \n",
        "\n",
        "num=int(input(\"enter a four digit number \"))\n",
        "s=sum_of_digits(num)\n",
        "r=reverse(num)\n",
        "d=difference(num)\n",
        "print(\"the sum of the digits = \",s)\n",
        "print(\"the reverse of the number = \",r)\n",
        "print(\"the difference is = \",d)"
      ]
    },
    {
      "cell_type": "markdown",
      "metadata": {
        "id": "X67pPH8vpSCY"
      },
      "source": [
        "**QUESTION 2**"
      ]
    },
    {
      "cell_type": "code",
      "execution_count": 3,
      "metadata": {
        "colab": {
          "base_uri": "https://localhost:8080/"
        },
        "id": "sumFBPZnUP4E",
        "outputId": "d3db7efe-407c-46c8-bbb5-1f5a477d2592"
      },
      "outputs": [
        {
          "output_type": "stream",
          "name": "stdout",
          "text": [
            "First triangle : \n",
            "\n",
            "\n",
            "first side 4 \n",
            "second side 5 \n",
            "third side 6\n",
            "Area of first triangle =  9.921567416492215\n",
            "\n",
            "\n",
            "Second triangle : \n",
            "first side 9\n",
            "second side 8\n",
            "third side 9\n",
            "Area of second triangle =  32.2490309931942\n",
            "\n",
            "\n",
            "total area is  42.17059840968641\n",
            "\n",
            "\n",
            "the contribution of first trianglee is  23.52721514668682\n",
            "the contribution of second triangle is  76.47278485331317\n"
          ]
        }
      ],
      "source": [
        "#2\n",
        "def sides():\n",
        "  a=int(input(\"first side \"))\n",
        "  b=int(input(\"second side \"))\n",
        "  c=int(input(\"third side \"))\n",
        "  return a,b,c\n",
        "\n",
        "def area(a,b,c):\n",
        "  s=(a+b+c)/2\n",
        "  area=(s*(s-a)*(s-b)*(s-c))**(1/2)\n",
        "  if area<0:\n",
        "    area=area*(-1)\n",
        "  else:\n",
        "    area=area\n",
        "  return area\n",
        "\n",
        "print(\"First triangle : \")\n",
        "print(\"\\n\")\n",
        "a1,b1,c1=sides()\n",
        "area1=area(a1,b1,c1)\n",
        "print(\"Area of first triangle = \",area1)\n",
        "print(\"\\n\")\n",
        "print(\"Second triangle : \")\n",
        "a2,b2,c2=sides()\n",
        "area2=area(a2,b2,c2)\n",
        "print(\"Area of second triangle = \",area2)\n",
        "print(\"\\n\")\n",
        "total_area=area1+area2\n",
        "print(\"total area is \",total_area)\n",
        "print(\"\\n\")\n",
        "enclosed1=(area1/total_area)*100\n",
        "enclosed2=(area2/total_area)*100\n",
        "print(\"the contribution of first trianglee is \",enclosed1)\n",
        "print(\"the contribution of second triangle is \",enclosed2)"
      ]
    },
    {
      "cell_type": "markdown",
      "metadata": {
        "id": "sKarHRXvpa_X"
      },
      "source": [
        "**QUESTION 3**"
      ]
    },
    {
      "cell_type": "code",
      "execution_count": 5,
      "metadata": {
        "colab": {
          "base_uri": "https://localhost:8080/"
        },
        "id": "EKrmigPCet0g",
        "outputId": "f3d782b1-937f-4e26-eea3-224d52f678d2"
      },
      "outputs": [
        {
          "output_type": "stream",
          "name": "stdout",
          "text": [
            "Enter the name LANA ANVAR\n",
            "Enter the code 12980\n",
            "Enter the basic pay 25000\n",
            "\n",
            "\n",
            "     PAY SLIP    \n",
            "Employee Name :  LANA ANVAR\n",
            "Employee code :  12980\n",
            "Employee's basic pay :  25000\n",
            "Gross Salary :  28750.0\n",
            "Deduction :  860\n",
            "Net Salary :  27890.0\n"
          ]
        }
      ],
      "source": [
        "#3\n",
        "\n",
        "def gross_salary(bp,da,hra,ma):\n",
        "  gs=bp+da+hra+ma\n",
        "  return (gs)\n",
        "\n",
        "def deduction(pt,pf,it):\n",
        "  d=pt+pf+it\n",
        "  return (d)\n",
        "\n",
        "def net_salary(gs,d):\n",
        "  ns=gs-d\n",
        "  return ns\n",
        "\n",
        "\n",
        "\n",
        "def employee_data(name,code,bp):\n",
        "\n",
        "  if bp<10000:\n",
        "    da=5*100\n",
        "    hra=2.5*100\n",
        "    ma=500\n",
        "    pt=20\n",
        "    pf=8*100\n",
        "    it=0\n",
        "\n",
        "  elif bp<30000 and bp>10000:\n",
        "    da=7.5*100\n",
        "    hra=5*100\n",
        "    ma=2500\n",
        "    pt=60\n",
        "    pf=8*100\n",
        "    it=0\n",
        "\n",
        "  elif bp<50000 and bp>30000:\n",
        "    da=11*100\n",
        "    hra=7.5*100\n",
        "    ma=5000\n",
        "    pt=60\n",
        "    pf=11*100\n",
        "    it=11\n",
        "\n",
        "  else:\n",
        "    da=25*100\n",
        "    hra=11*100\n",
        "    ma=7000\n",
        "    pt=80\n",
        "    pf=12*100\n",
        "    it=20\n",
        "\n",
        "  gs=gross_salary(bp,da,hra,ma)\n",
        "  d=deduction(pt,pf,it)\n",
        "  ns=net_salary(gs,d)\n",
        "\n",
        "\n",
        "  print(\"\\n\")\n",
        "  print(\"     PAY SLIP    \")\n",
        "  print(\"Employee Name : \",name)\n",
        "  print(\"Employee code : \",code)\n",
        "  print(\"Employee's basic pay : \",bp)\n",
        "  print(\"Gross Salary : \",gs)\n",
        "  print(\"Deduction : \",d)\n",
        "  print(\"Net Salary : \",ns)\n",
        "\n",
        "\n",
        "name=input(\"Enter the name \")\n",
        "code=int(input(\"Enter the code \"))\n",
        "bp=int(input(\"Enter the basic pay \"))\n",
        "employee_data(name,code,bp)\n",
        "\n",
        "\n",
        "\n",
        "\n",
        "\n"
      ]
    },
    {
      "cell_type": "markdown",
      "metadata": {
        "id": "h56Dt094peW2"
      },
      "source": [
        "**QUESTION 4**"
      ]
    },
    {
      "cell_type": "code",
      "execution_count": 8,
      "metadata": {
        "colab": {
          "base_uri": "https://localhost:8080/"
        },
        "id": "BCs2vwv8b4Hg",
        "outputId": "c5d371fd-8e55-487d-ecaa-cba7a4db4c94"
      },
      "outputs": [
        {
          "output_type": "stream",
          "name": "stdout",
          "text": [
            "Enter the number 556\n",
            "The number is happy\n",
            "\n",
            "\n",
            "Lower limit 7\n",
            "Upper limit 78\n",
            "7\n",
            "10\n",
            "13\n",
            "19\n",
            "23\n",
            "28\n",
            "31\n",
            "32\n",
            "44\n",
            "49\n",
            "68\n",
            "70\n",
            "\n",
            "\n",
            "Enter the no. of terms 5\n",
            "\n",
            "\n",
            "First  5  happy numbers : \n",
            "1\n",
            "7\n",
            "10\n",
            "13\n",
            "19\n"
          ]
        }
      ],
      "source": [
        "#4\n",
        "#to check if a no. is happy\n",
        "def happy_funtion(a):\n",
        "  i=0\n",
        "  while i<100:\n",
        "    sum=0\n",
        "    while a>0:\n",
        "      digit=a%10\n",
        "      sum=sum+(digit*digit)\n",
        "      a=a//10\n",
        "    if sum==1:\n",
        "      return True\n",
        "      i=100\n",
        "      break\n",
        "    else:\n",
        "      a=sum\n",
        "    i=i+1\n",
        "  if sum!=1:\n",
        "    return False\n",
        "\n",
        "#to print happy numbers in a range\n",
        "def happy_range(b,c):\n",
        "  count=0\n",
        "  for j in range(b,c+1):\n",
        "    i=1\n",
        "    t=j\n",
        "    while i<100:\n",
        "      sum=0\n",
        "      while j>0:\n",
        "        digit=j%10\n",
        "        sum=sum+(digit*digit)\n",
        "        j=j//10\n",
        "      if sum==1:\n",
        "        print(t)\n",
        "        count=count+1\n",
        "        break\n",
        "      else:\n",
        "        j=sum\n",
        "        i=i+1\n",
        "      \n",
        "  if count==0:\n",
        "    print(\"there are no happy numbers in this range\")\n",
        "\n",
        "#to print first n happy numbers\n",
        "def N_happy_numbers(count):\n",
        "  k=1\n",
        "  while count>0:\n",
        "    b=happy_funtion(k)\n",
        "    if b==True:\n",
        "      print(k)\n",
        "      count=count-1\n",
        "    k=k+1\n",
        "    \n",
        "\n",
        "a=int(input(\"Enter the number \"))\n",
        "if(happy_funtion(a)==True):\n",
        "  print(\"The number is happy\")\n",
        "else:\n",
        "  print(\"The number is sad\")\n",
        "\n",
        "print(\"\\n\")\n",
        "b=int(input(\"Lower limit \"))\n",
        "c=int(input(\"Upper limit \"))\n",
        "happy_range(b,c)\n",
        "\n",
        "print(\"\\n\")\n",
        "n=int(input(\"Enter the no. of terms \"))\n",
        "print(\"\\n\")\n",
        "print(\"First \",n, \" happy numbers : \")\n",
        "N_happy_numbers(n)\n",
        "\n",
        "\n",
        "    "
      ]
    },
    {
      "cell_type": "code",
      "execution_count": 14,
      "metadata": {
        "colab": {
          "base_uri": "https://localhost:8080/"
        },
        "id": "owxguZaruZV5",
        "outputId": "7e0d09cf-7058-41c0-dea7-4a021ebad00a"
      },
      "outputs": [
        {
          "output_type": "stream",
          "name": "stdout",
          "text": [
            "Enter a string : Hollow\n",
            "H,Ho,Hol,Holl,Hollo,Hollow,o,ol,oll,ollo,ollow,l,ll,llo,llow,l,lo,low,o,ow,w,\n",
            "\n",
            "Enter length required : 3\n",
            "Hol\n",
            "oll\n",
            "llo\n",
            "low\n",
            "\n",
            "\n",
            "Enter the number of distinct characters : 2\n",
            "Ho,ol,oll,ollo,llo,lo,ow,\n",
            "\n",
            "\n",
            "\n",
            "Enter the max number of distinct characters in the substrings : 3\n",
            "Hol,Holl,Hollo,ollow,llow,low,\n",
            "\n",
            "The palindrome substrings are : \n",
            "H,o,ollo,l,ll,l,o,w,"
          ]
        }
      ],
      "source": [
        "#5\n",
        "#to print all possible subsets\n",
        "def possible_subs(_str):\n",
        "  l=len(_str)\n",
        "  for i in range(0,l+1):\n",
        "    for j in range (i+1,l+1):\n",
        "      print(_str[i:j], end=\",\")\n",
        "  print(\"\\n\")\n",
        "\n",
        "\n",
        "#to print substrings of length k\n",
        "def length_sub(_str,k):\n",
        "  l=len(_str)\n",
        "  for i in range(0,l+1):\n",
        "    for j in  range(i+1,l+1):\n",
        "      s1=_str[i:j]\n",
        "      if len(s1)==k:\n",
        "        print(s1)\n",
        "\n",
        "\n",
        "#to print substrings of length k and N distinct characters\n",
        "\n",
        "def Nchar_subs(_str,k,N):\n",
        "  l=len(_str)\n",
        "  for i in range(0,l+1):\n",
        "    for j in range(i+1,l+1):\n",
        "      s1=_str[i:j]\n",
        "      dist=set(s1)\n",
        "      if(len(dist)<=k)and(len(dist)==N):\n",
        "        print(s1,end=\",\")\n",
        "  print(\"\\n\")\n",
        "\n",
        "#to print all possible substrings using N distinct characters\n",
        "def all_Nchar_subs(_str,N,k):\n",
        "  l=len(_str)\n",
        "  for i in range(0,l+1):\n",
        "    for j in range(i+1,l+1):\n",
        "      s1=_str[i:j]\n",
        "      dist=set(s1)\n",
        "      if(len(dist)==N):\n",
        "        print(s1,end=\",\")\n",
        "\n",
        "#palindrome substrings\n",
        "def palindrome_subs(_str):\n",
        "  l=len(_str)\n",
        "  for i in range(0,l+1):\n",
        "    for j in range(i+1,l+1):\n",
        "      s1=_str[i:j]\n",
        "      s2=s1[::-1]\n",
        "      if(s2==s1):\n",
        "        print(s1,end=\",\")\n",
        "  \n",
        "\n",
        "a=input(\"Enter a string : \")\n",
        "possible_subs(a)\n",
        "n=int(input(\"Enter length required : \"))\n",
        "length_sub(a,n)\n",
        "\n",
        "print(\"\\n\")\n",
        "N=int(input(\"Enter the number of distinct characters : \"))\n",
        "Nchar_subs(a,n,N)\n",
        "print(\"\\n\")\n",
        "N=int(input(\"Enter the max number of distinct characters in the substrings : \"))\n",
        "all_Nchar_subs(a,N,n)\n",
        "\n",
        "print(\"\\n\")\n",
        "print(\"The palindrome substrings are : \")\n",
        "palindrome_subs(a)\n"
      ]
    }
  ],
  "metadata": {
    "colab": {
      "provenance": [],
      "authorship_tag": "ABX9TyMfZh32QCVwjKlF1H1oSbcz",
      "include_colab_link": true
    },
    "kernelspec": {
      "display_name": "Python 3",
      "name": "python3"
    },
    "language_info": {
      "name": "python"
    }
  },
  "nbformat": 4,
  "nbformat_minor": 0
}