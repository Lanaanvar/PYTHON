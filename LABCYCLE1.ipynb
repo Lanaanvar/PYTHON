{
  "cells": [
    {
      "cell_type": "markdown",
      "metadata": {
        "id": "view-in-github",
        "colab_type": "text"
      },
      "source": [
        "<a href=\"https://colab.research.google.com/github/Lanaanvar/PYTHON/blob/main/LABCYCLE1.ipynb\" target=\"_parent\"><img src=\"https://colab.research.google.com/assets/colab-badge.svg\" alt=\"Open In Colab\"/></a>"
      ]
    },
    {
      "cell_type": "markdown",
      "metadata": {
        "id": "JPFSWgzQpD6K"
      },
      "source": [
        "**QUESTION 1**\n",
        "\n"
      ]
    },
    {
      "cell_type": "code",
      "execution_count": null,
      "metadata": {
        "colab": {
          "base_uri": "https://localhost:8080/"
        },
        "id": "nnJ6G_rxpRdy",
        "outputId": "a9f5a8c9-8831-4dc4-9ace-19c5d41040e0"
      },
      "outputs": [
        {
          "name": "stdout",
          "output_type": "stream",
          "text": [
            "enter a four digit number 7\n",
            "the sum of the digits =  7\n",
            "the reverse of the number =  7\n",
            "the difference is =  6\n"
          ]
        }
      ],
      "source": [
        "#1\n",
        "def sum_of_digits(a):\n",
        "  sum=0\n",
        "  while a>0:\n",
        "    digits=a%10\n",
        "    sum=sum+digits\n",
        "    a=a//10\n",
        "  return sum\n",
        "\n",
        "def reverse(b):\n",
        "  rev=0\n",
        "  while b>0:\n",
        "    digits=b%10\n",
        "    rev=rev*10+digits\n",
        "    b=b//10\n",
        "  return rev\n",
        "\n",
        "def difference(c):\n",
        "  prodEven=1\n",
        "  prodOdd=1\n",
        "  count=0\n",
        "  while c>0:\n",
        "    digit=c%10\n",
        "    count=count+1\n",
        "    if count%2==0:\n",
        "      prodEven=prodEven*digit\n",
        "    else:\n",
        "      prodOdd=prodOdd*digit\n",
        "    c=c//10\n",
        "  diff=prodOdd-prodEven\n",
        "  return diff\n",
        "  \n",
        "\n",
        "num=int(input(\"enter a four digit number \"))\n",
        "s=sum_of_digits(num)\n",
        "r=reverse(num)\n",
        "d=difference(num)\n",
        "print(\"the sum of the digits = \",s)\n",
        "print(\"the reverse of the number = \",r)\n",
        "print(\"the difference is = \",d)"
      ]
    },
    {
      "cell_type": "markdown",
      "metadata": {
        "id": "X67pPH8vpSCY"
      },
      "source": [
        "**QUESTION 2**"
      ]
    },
    {
      "cell_type": "code",
      "execution_count": null,
      "metadata": {
        "colab": {
          "base_uri": "https://localhost:8080/"
        },
        "id": "sumFBPZnUP4E",
        "outputId": "ebfc6eba-8485-44e0-8905-5fc1d44980f0"
      },
      "outputs": [
        {
          "name": "stdout",
          "output_type": "stream",
          "text": [
            "first triangle \n",
            "first side 7\n",
            "second side 8\n",
            "third side 9\n",
            "area of first triangle =  26.832815729997478\n",
            "second triangle \n",
            "first side 67\n",
            "second side 76\n",
            "third side 78\n",
            "area of second triangle =  2321.54440782424\n",
            "total area is  2348.3772235542374\n",
            "the contribution of first trianglee is  1.1426109681555492\n",
            "the contribution of second triangle is  98.85738903184445\n"
          ]
        }
      ],
      "source": [
        "#2\n",
        "def sides():\n",
        "  a=int(input(\"first side \"))\n",
        "  b=int(input(\"second side \"))\n",
        "  c=int(input(\"third side \"))\n",
        "  return a,b,c\n",
        "\n",
        "def area(a,b,c):\n",
        "  s=(a+b+c)/2\n",
        "  area=(s*(s-a)*(s-b)*(s-c))**(1/2)\n",
        "  if area<0:\n",
        "    area=area*(-1)\n",
        "  else:\n",
        "    area=area\n",
        "  return area\n",
        "\n",
        "print(\"first triangle \")\n",
        "a1,b1,c1=sides()\n",
        "area1=area(a1,b1,c1)\n",
        "print(\"area of first triangle = \",area1)\n",
        "print(\"second triangle \")\n",
        "a2,b2,c2=sides()\n",
        "area2=area(a2,b2,c2)\n",
        "print(\"area of second triangle = \",area2)\n",
        "total_area=area1+area2\n",
        "print(\"total area is \",total_area)\n",
        "enclosed1=(area1/total_area)*100\n",
        "enclosed2=(area2/total_area)*100\n",
        "print(\"the contribution of first trianglee is \",enclosed1)\n",
        "print(\"the contribution of second triangle is \",enclosed2)"
      ]
    },
    {
      "cell_type": "markdown",
      "metadata": {
        "id": "sKarHRXvpa_X"
      },
      "source": [
        "**QUESTION 3**"
      ]
    },
    {
      "cell_type": "code",
      "execution_count": null,
      "metadata": {
        "colab": {
          "base_uri": "https://localhost:8080/"
        },
        "id": "EKrmigPCet0g",
        "outputId": "57942303-9c33-4121-940f-fb2da4045336"
      },
      "outputs": [
        {
          "name": "stdout",
          "output_type": "stream",
          "text": [
            "enter the name LANA ANVAR\n",
            "enter the code nhjdkkeiy\n",
            "enter the basic pay789000\n",
            "     PAY SLIP    \n",
            "Employee Name :  LANA ANVAR\n",
            "Employee code :  nhjdkkeiy\n",
            "Employee's basic pay :  789000\n",
            "Gross Salary :  799600\n",
            "Deduction :  1300\n",
            "Net Salary :  798300\n"
          ]
        }
      ],
      "source": [
        "#3\n",
        "\n",
        "def gross_salary(bp,da,hra,ma):\n",
        "  gs=bp+da+hra+ma\n",
        "  return (gs)\n",
        "\n",
        "def deduction(pt,pf,it):\n",
        "  d=pt+pf+it\n",
        "  return (d)\n",
        "\n",
        "def net_salary(gs,d):\n",
        "  ns=gs-d\n",
        "  return ns\n",
        "\n",
        "\n",
        "\n",
        "def employee_data(name,code,bp):\n",
        "\n",
        "  if bp<10000:\n",
        "    da=5*100\n",
        "    hra=2.5*100\n",
        "    ma=500\n",
        "    pt=20\n",
        "    pf=8*100\n",
        "    it=0\n",
        "\n",
        "  elif bp<30000 and bp>10000:\n",
        "    da=7.5*100\n",
        "    hra=5*100\n",
        "    ma=2500\n",
        "    pt=60\n",
        "    pf=8*100\n",
        "    it=0\n",
        "\n",
        "  elif bp<50000 and bp>30000:\n",
        "    da=11*100\n",
        "    hra=7.5*100\n",
        "    ma=5000\n",
        "    pt=60\n",
        "    pf=11*100\n",
        "    it=11\n",
        "\n",
        "  else:\n",
        "    da=25*100\n",
        "    hra=11*100\n",
        "    ma=7000\n",
        "    pt=80\n",
        "    pf=12*100\n",
        "    it=20\n",
        "\n",
        "  gs=gross_salary(bp,da,hra,ma)\n",
        "  d=deduction(pt,pf,it)\n",
        "  ns=net_salary(gs,d)\n",
        "\n",
        "\n",
        "  print(\"     PAY SLIP    \")\n",
        "  print(\"Employee Name : \",name)\n",
        "  print(\"Employee code : \",code)\n",
        "  print(\"Employee's basic pay : \",bp)\n",
        "  print(\"Gross Salary : \",gs)\n",
        "  print(\"Deduction : \",d)\n",
        "  print(\"Net Salary : \",ns)\n",
        "\n",
        "\n",
        "name=input(\"enter the name \")\n",
        "code=input(\"enter the code \")\n",
        "bp=int(input(\"enter the basic pay\"))\n",
        "employee_data(name,code,bp)\n",
        "\n",
        "\n",
        "\n",
        "\n",
        "\n"
      ]
    },
    {
      "cell_type": "markdown",
      "metadata": {
        "id": "h56Dt094peW2"
      },
      "source": [
        "**QUESTION 4**"
      ]
    },
    {
      "cell_type": "code",
      "execution_count": null,
      "metadata": {
        "colab": {
          "base_uri": "https://localhost:8080/"
        },
        "id": "BCs2vwv8b4Hg",
        "outputId": "5767a01a-63e5-4706-993a-feb8ba78fcfb"
      },
      "outputs": [
        {
          "output_type": "stream",
          "name": "stdout",
          "text": [
            "enter the number 19\n",
            "the number is happy\n",
            "lower limit 2\n",
            "upper limit 6\n",
            "there are no happy numbers in this range\n",
            "Enter the no. of terms 5\n",
            "1\n",
            "7\n",
            "10\n",
            "13\n",
            "19\n"
          ]
        }
      ],
      "source": [
        "#4\n",
        "#to check if a no. is happy\n",
        "def happy_funtion(a):\n",
        "  i=0\n",
        "  while i<100:\n",
        "    sum=0\n",
        "    while a>0:\n",
        "      digit=a%10\n",
        "      sum=sum+(digit*digit)\n",
        "      a=a//10\n",
        "    if sum==1:\n",
        "      return True\n",
        "      i=100\n",
        "      break\n",
        "    else:\n",
        "      a=sum\n",
        "    i=i+1\n",
        "  if sum!=1:\n",
        "    return False\n",
        "\n",
        "a=int(input(\"enter the number \"))\n",
        "if(happy_funtion(a)==True):\n",
        "  print(\"the number is happy\")\n",
        "else:\n",
        "  print(\"the number is sad\")\n",
        "\n",
        "#to print happy numbers in a range\n",
        "def happy_range(b,c):\n",
        "  count=0\n",
        "  for j in range(b,c+1):\n",
        "    i=1\n",
        "    t=j\n",
        "    while i<100:\n",
        "      sum=0\n",
        "      while j>0:\n",
        "        digit=j%10\n",
        "        sum=sum+(digit*digit)\n",
        "        j=j//10\n",
        "      if sum==1:\n",
        "        print(t)\n",
        "        count=count+1\n",
        "        break\n",
        "      else:\n",
        "        j=sum\n",
        "        i=i+1\n",
        "      \n",
        "  if count==0:\n",
        "    print(\"there are no happy numbers in this range\")\n",
        "\n",
        "b=int(input(\"lower limit \"))\n",
        "c=int(input(\"upper limit \"))\n",
        "happy_range(b,c)\n",
        "\n",
        "\n",
        "#to print first n happy numbers\n",
        "def N_happy_numbers(count):\n",
        "  k=1\n",
        "  while count>0:\n",
        "    b=happy_funtion(k)\n",
        "    if b==True:\n",
        "      print(k)\n",
        "      count=count-1\n",
        "    k=k+1\n",
        "    \n",
        "\n",
        "n=int(input(\"Enter the no. of terms \"))\n",
        "N_happy_numbers(n)\n",
        "\n",
        "\n",
        "    "
      ]
    },
    {
      "cell_type": "code",
      "execution_count": null,
      "metadata": {
        "colab": {
          "base_uri": "https://localhost:8080/"
        },
        "id": "owxguZaruZV5",
        "outputId": "112df47c-1e2d-446c-a62b-9bf5f21725eb"
      },
      "outputs": [
        {
          "name": "stdout",
          "output_type": "stream",
          "text": [
            "enter a string laal\n",
            "l,la,laa,laal,a,aa,aal,a,al,l,\n",
            "\n",
            "enter length required 3\n",
            "laa\n",
            "aal\n",
            "enter the number of distinct characters 2\n",
            "la,laa,laal,aal,al,\n",
            "\n",
            "Enter the max number of distinct characters in the substrings3\n",
            "the palindrome substrings are: \n",
            "l,laal,a,aa,a,l,"
          ]
        }
      ],
      "source": [
        "#5\n",
        "#to print all possible subsets\n",
        "def possible_subs(_str):\n",
        "  l=len(_str)\n",
        "  for i in range(0,l+1):\n",
        "    for j in range (i+1,l+1):\n",
        "      print(_str[i:j], end=\",\")\n",
        "  print(\"\\n\")\n",
        "\n",
        "\n",
        "#to print substrings of length k\n",
        "def length_sub(_str,k):\n",
        "  l=len(_str)\n",
        "  for i in range(0,l+1):\n",
        "    for j in  range(i+1,l+1):\n",
        "      s1=_str[i:j]\n",
        "      if len(s1)==k:\n",
        "        print(s1)\n",
        "\n",
        "\n",
        "#to print substrings of length k and N distinct characters\n",
        "\n",
        "def Nchar_subs(_str,k,N):\n",
        "  l=len(_str)\n",
        "  for i in range(0,l+1):\n",
        "    for j in range(i+1,l+1):\n",
        "      s1=_str[i:j]\n",
        "      dist=set(s1)\n",
        "      if(len(dist)<=k)and(len(dist)==N):\n",
        "        print(s1,end=\",\")\n",
        "  print(\"\\n\")\n",
        "\n",
        "#to print all possible substrings using N distinct characters\n",
        "def all_Nchar_subs(_str,N,k):\n",
        "  l=len(_str)\n",
        "  for i in range(0,l+1):\n",
        "    for j in range(i+1,l+1):\n",
        "      s1=_str[i:j]\n",
        "      dist=set(s1)\n",
        "      if(len(dist)==N):\n",
        "        print(s1,end=\",\")\n",
        "\n",
        "#palindrome substrings\n",
        "def palindrome_subs(_str):\n",
        "  l=len(_str)\n",
        "  for i in range(0,l+1):\n",
        "    for j in range(i+1,l+1):\n",
        "      s1=_str[i:j]\n",
        "      s2=s1[::-1]\n",
        "      if(s2==s1):\n",
        "        print(s1,end=\",\")\n",
        "  \n",
        "\n",
        "a=input(\"enter a string \")\n",
        "possible_subs(a)\n",
        "n=int(input(\"enter length required \"))\n",
        "length_sub(a,n)\n",
        "N=int(input(\"enter the number of distinct characters \"))\n",
        "Nchar_subs(a,n,N)\n",
        "N=int(input(\"Enter the max number of distinct characters in the substrings\"))\n",
        "all_Nchar_subs(a,N,n)\n",
        "\n",
        "print(\"the palindrome substrings are: \")\n",
        "palindrome_subs(a)\n"
      ]
    }
  ],
  "metadata": {
    "colab": {
      "provenance": [],
      "authorship_tag": "ABX9TyNNVxH3Oz1pMY8u5k4Pu+z5",
      "include_colab_link": true
    },
    "kernelspec": {
      "display_name": "Python 3",
      "name": "python3"
    },
    "language_info": {
      "name": "python"
    }
  },
  "nbformat": 4,
  "nbformat_minor": 0
}